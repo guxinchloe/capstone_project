{
 "cells": [
  {
   "cell_type": "markdown",
   "metadata": {},
   "source": [
    "# <center>Analytics for opening Resturant in Toronto Downtown</center>"
   ]
  },
  {
   "cell_type": "markdown",
   "metadata": {},
   "source": [
    "#### -- Why Are Restaurant Analytics Important?\n",
    "    Business analytics for opening restaurants is integral to understanding the inner workings of the business and being aware of how the owner can improve it to foster a sustainable level of success. By working with relevant data, the owner should be able to track, monitor, and measure the most valuable business insights in a way that is clear, concise, and digestible, pulling from past, present, and predictive data. This will enable sustainable KPI management processes that will ultimately increase productivity and save money."
   ]
  },
  {
   "cell_type": "markdown",
   "metadata": {},
   "source": [
    "#### -- What kind of data will be used for analysis?\n",
    "    ..*Geographic data\n",
    "    ..*Competitors data\n",
    "    ..*Outside sources, such as social media posts, locational data, weather data, traffic data\n",
    "    ..*Neighbourhood data, such as the community category, living condition(work type, living status, etc.)\n",
    "    "
   ]
  },
  {
   "cell_type": "markdown",
   "metadata": {},
   "source": [
    "#### -- How the data can be used to solve the problem?\n",
    "    After clarifying the data sources, collect all the raw data into a designated data warehouse. Peform ETL process to get the meaningful data and segment data to get deeper insights. For example, segment the data based on different customer categories, or based on different neighbourhoods.\n",
    "    According to the segmentations of the data, along with our own resturant category, we can get a deep sense about what kind of resturant can be more competitive."
   ]
  },
  {
   "cell_type": "code",
   "execution_count": null,
   "metadata": {},
   "outputs": [],
   "source": []
  }
 ],
 "metadata": {
  "kernelspec": {
   "display_name": "Python 3",
   "language": "python",
   "name": "python3"
  },
  "language_info": {
   "codemirror_mode": {
    "name": "ipython",
    "version": 3
   },
   "file_extension": ".py",
   "mimetype": "text/x-python",
   "name": "python",
   "nbconvert_exporter": "python",
   "pygments_lexer": "ipython3",
   "version": "3.7.3"
  }
 },
 "nbformat": 4,
 "nbformat_minor": 2
}
