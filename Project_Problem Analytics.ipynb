{
 "cells": [
  {
   "cell_type": "markdown",
   "metadata": {},
   "source": [
    "# <center>Analytics for opening Resturant in Toronto Downtown</center>"
   ]
  },
  {
   "cell_type": "markdown",
   "metadata": {},
   "source": [
    "#### -- Why Are Restaurant Analytics Important?\n",
    "    Business analytics for opening restaurants is integral to understanding the inner workings of the business and being aware of how the owner can improve it to foster a sustainable level of success. By working with relevant data, the owner should be able to track, monitor, and measure the most valuable business insights in a way that is clear, concise, and digestible, pulling from past, present, and predictive data. This will enable sustainable KPI management processes that will ultimately increase productivity and save money."
   ]
  },
  {
   "cell_type": "code",
   "execution_count": null,
   "metadata": {},
   "outputs": [],
   "source": []
  }
 ],
 "metadata": {
  "kernelspec": {
   "display_name": "Python 3",
   "language": "python",
   "name": "python3"
  },
  "language_info": {
   "codemirror_mode": {
    "name": "ipython",
    "version": 3
   },
   "file_extension": ".py",
   "mimetype": "text/x-python",
   "name": "python",
   "nbconvert_exporter": "python",
   "pygments_lexer": "ipython3",
   "version": "3.7.3"
  }
 },
 "nbformat": 4,
 "nbformat_minor": 2
}
